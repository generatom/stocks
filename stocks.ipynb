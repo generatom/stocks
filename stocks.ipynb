{
 "cells": [
  {
   "cell_type": "markdown",
   "metadata": {},
   "source": [
    "# Stocks"
   ]
  },
  {
   "cell_type": "code",
   "execution_count": 1,
   "metadata": {
    "scrolled": true
   },
   "outputs": [],
   "source": [
    "import numpy as np\n",
    "import pandas as pd\n",
    "from matplotlib import pyplot as plt\n",
    "import ig"
   ]
  },
  {
   "cell_type": "markdown",
   "metadata": {},
   "source": [
    "## API Setup"
   ]
  },
  {
   "cell_type": "code",
   "execution_count": 8,
   "metadata": {},
   "outputs": [],
   "source": [
    "details = ig.get_api('prod')\n",
    "api = ig.APIHandler(details['url'], details['api_key'], details['user_name'], details['password'])\n",
    "del details"
   ]
  },
  {
   "cell_type": "code",
   "execution_count": 10,
   "metadata": {},
   "outputs": [
    {
     "name": "stdout",
     "output_type": "stream",
     "text": [
      "https://api.ig.com/gateway/deal/prices/IX.D.FTSE.DAILY.IP/DAY/2020-08-13%2009%3A00%3A00/2020-08-14%2011%3A00%3A00\n",
      "[{'prices': [{'snapshotTime': '2020/08/14 00:00:00', 'openPrice': {'bid': 6188.8, 'ask': 6192.8, 'lastTraded': None}, 'closePrice': {'bid': 6076.5, 'ask': 6080.5, 'lastTraded': None}, 'highPrice': {'bid': 6201.8, 'ask': 6203.8, 'lastTraded': None}, 'lowPrice': {'bid': 6033.2, 'ask': 6034.2, 'lastTraded': None}, 'lastTradedVolume': 91047}], 'instrumentType': 'INDICES', 'allowance': {'remainingAllowance': 9989, 'totalAllowance': 10000, 'allowanceExpiry': 527003}}]\n"
     ]
    }
   ],
   "source": [
    "# api.markets(93334)\n",
    "print(api.prices('IX.D.FTSE.DAILY.IP', resolution='DAY',\n",
    "                 from_date='2020-08-13 09:00:00', to_date='2020-08-14 11:00:00'))"
   ]
  }
 ],
 "metadata": {
  "kernelspec": {
   "display_name": "Python 3",
   "language": "python",
   "name": "python3"
  },
  "language_info": {
   "codemirror_mode": {
    "name": "ipython",
    "version": 3
   },
   "file_extension": ".py",
   "mimetype": "text/x-python",
   "name": "python",
   "nbconvert_exporter": "python",
   "pygments_lexer": "ipython3",
   "version": "3.6.9"
  }
 },
 "nbformat": 4,
 "nbformat_minor": 2
}
