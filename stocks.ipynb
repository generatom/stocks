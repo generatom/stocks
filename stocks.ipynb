{
 "cells": [
  {
   "cell_type": "markdown",
   "metadata": {},
   "source": [
    "# Stocks"
   ]
  },
  {
   "cell_type": "code",
   "execution_count": 1,
   "metadata": {
    "scrolled": true
   },
   "outputs": [],
   "source": [
    "import numpy as np\n",
    "import pandas as pd\n",
    "from matplotlib import pyplot as plt\n",
    "import ig"
   ]
  },
  {
   "cell_type": "markdown",
   "metadata": {},
   "source": [
    "## API Setup"
   ]
  },
  {
   "cell_type": "code",
   "execution_count": 2,
   "metadata": {},
   "outputs": [],
   "source": [
    "details = ig.get_api('prod')\n",
    "api = ig.APIHandler(details['url'], details['api_key'], details['user_name'], details['password'])\n",
    "del details"
   ]
  },
  {
   "cell_type": "code",
   "execution_count": 4,
   "metadata": {},
   "outputs": [
    {
     "name": "stdout",
     "output_type": "stream",
     "text": [
      "https://api.ig.com/gateway/deal/prices/IX.D.FTSE.DAILY.IP/HOUR_4/2020-08-13%2009%3A00%3A00/2020-08-14%2011%3A00%3A00\n",
      "[{'prices': [{'snapshotTime': '2020/08/13 12:00:00', 'openPrice': {'bid': 6207.5, 'ask': 6208.5, 'lastTraded': None}, 'closePrice': {'bid': 6191.6, 'ask': 6192.6, 'lastTraded': None}, 'highPrice': {'bid': 6219.5, 'ask': 6220.5, 'lastTraded': None}, 'lowPrice': {'bid': 6187.6, 'ask': 6188.6, 'lastTraded': None}, 'lastTradedVolume': 27359}, {'snapshotTime': '2020/08/13 16:00:00', 'openPrice': {'bid': 6191.8, 'ask': 6192.8, 'lastTraded': None}, 'closePrice': {'bid': 6167.3, 'ask': 6169.3, 'lastTraded': None}, 'highPrice': {'bid': 6198.3, 'ask': 6199.6, 'lastTraded': None}, 'lowPrice': {'bid': 6160.3, 'ask': 6162.3, 'lastTraded': None}, 'lastTradedVolume': 18937}, {'snapshotTime': '2020/08/13 20:00:00', 'openPrice': {'bid': 6167.6, 'ask': 6169.6, 'lastTraded': None}, 'closePrice': {'bid': 6189.0, 'ask': 6193.0, 'lastTraded': None}, 'highPrice': {'bid': 6189.5, 'ask': 6193.5, 'lastTraded': None}, 'lowPrice': {'bid': 6163.3, 'ask': 6165.3, 'lastTraded': None}, 'lastTradedVolume': 2562}, {'snapshotTime': '2020/08/14 00:00:00', 'openPrice': {'bid': 6188.8, 'ask': 6192.8, 'lastTraded': None}, 'closePrice': {'bid': 6195.6, 'ask': 6198.6, 'lastTraded': None}, 'highPrice': {'bid': 6196.1, 'ask': 6200.1, 'lastTraded': None}, 'lowPrice': {'bid': 6174.6, 'ask': 6177.6, 'lastTraded': None}, 'lastTradedVolume': 516}, {'snapshotTime': '2020/08/14 04:00:00', 'openPrice': {'bid': 6195.3, 'ask': 6198.3, 'lastTraded': None}, 'closePrice': {'bid': 6168.3, 'ask': 6170.3, 'lastTraded': None}, 'highPrice': {'bid': 6201.8, 'ask': 6203.8, 'lastTraded': None}, 'lowPrice': {'bid': 6168.3, 'ask': 6170.3, 'lastTraded': None}, 'lastTradedVolume': 2235}, {'snapshotTime': '2020/08/14 08:00:00', 'openPrice': {'bid': 6168.8, 'ask': 6169.8, 'lastTraded': None}, 'closePrice': {'bid': 6074.7, 'ask': 6075.7, 'lastTraded': None}, 'highPrice': {'bid': 6172.3, 'ask': 6173.3, 'lastTraded': None}, 'lowPrice': {'bid': 6033.2, 'ask': 6034.2, 'lastTraded': None}, 'lastTradedVolume': 44555}], 'instrumentType': 'INDICES', 'allowance': {'remainingAllowance': 9951, 'totalAllowance': 10000, 'allowanceExpiry': 483933}}]\n",
      "[[{'snapshotTime': '2020/08/13 12:00:00', 'openPrice': {'bid': 6207.5, 'ask': 6208.5, 'lastTraded': None}, 'closePrice': {'bid': 6191.6, 'ask': 6192.6, 'lastTraded': None}, 'highPrice': {'bid': 6219.5, 'ask': 6220.5, 'lastTraded': None}, 'lowPrice': {'bid': 6187.6, 'ask': 6188.6, 'lastTraded': None}, 'lastTradedVolume': 27359}, {'snapshotTime': '2020/08/13 16:00:00', 'openPrice': {'bid': 6191.8, 'ask': 6192.8, 'lastTraded': None}, 'closePrice': {'bid': 6167.3, 'ask': 6169.3, 'lastTraded': None}, 'highPrice': {'bid': 6198.3, 'ask': 6199.6, 'lastTraded': None}, 'lowPrice': {'bid': 6160.3, 'ask': 6162.3, 'lastTraded': None}, 'lastTradedVolume': 18937}, {'snapshotTime': '2020/08/13 20:00:00', 'openPrice': {'bid': 6167.6, 'ask': 6169.6, 'lastTraded': None}, 'closePrice': {'bid': 6189.0, 'ask': 6193.0, 'lastTraded': None}, 'highPrice': {'bid': 6189.5, 'ask': 6193.5, 'lastTraded': None}, 'lowPrice': {'bid': 6163.3, 'ask': 6165.3, 'lastTraded': None}, 'lastTradedVolume': 2562}, {'snapshotTime': '2020/08/14 00:00:00', 'openPrice': {'bid': 6188.8, 'ask': 6192.8, 'lastTraded': None}, 'closePrice': {'bid': 6195.6, 'ask': 6198.6, 'lastTraded': None}, 'highPrice': {'bid': 6196.1, 'ask': 6200.1, 'lastTraded': None}, 'lowPrice': {'bid': 6174.6, 'ask': 6177.6, 'lastTraded': None}, 'lastTradedVolume': 516}, {'snapshotTime': '2020/08/14 04:00:00', 'openPrice': {'bid': 6195.3, 'ask': 6198.3, 'lastTraded': None}, 'closePrice': {'bid': 6168.3, 'ask': 6170.3, 'lastTraded': None}, 'highPrice': {'bid': 6201.8, 'ask': 6203.8, 'lastTraded': None}, 'lowPrice': {'bid': 6168.3, 'ask': 6170.3, 'lastTraded': None}, 'lastTradedVolume': 2235}, {'snapshotTime': '2020/08/14 08:00:00', 'openPrice': {'bid': 6168.8, 'ask': 6169.8, 'lastTraded': None}, 'closePrice': {'bid': 6074.7, 'ask': 6075.7, 'lastTraded': None}, 'highPrice': {'bid': 6172.3, 'ask': 6173.3, 'lastTraded': None}, 'lowPrice': {'bid': 6033.2, 'ask': 6034.2, 'lastTraded': None}, 'lastTradedVolume': 44555}]]\n"
     ]
    }
   ],
   "source": [
    "# api.markets(93334)\n",
    "print(api.prices('IX.D.FTSE.DAILY.IP', resolution='HOUR_4',\n",
    "                 from_date='2020-08-13 09:00:00', to_date='2020-08-14 11:00:00'))"
   ]
  }
 ],
 "metadata": {
  "kernelspec": {
   "display_name": "Python 3",
   "language": "python",
   "name": "python3"
  },
  "language_info": {
   "codemirror_mode": {
    "name": "ipython",
    "version": 3
   },
   "file_extension": ".py",
   "mimetype": "text/x-python",
   "name": "python",
   "nbconvert_exporter": "python",
   "pygments_lexer": "ipython3",
   "version": "3.6.9"
  }
 },
 "nbformat": 4,
 "nbformat_minor": 2
}
